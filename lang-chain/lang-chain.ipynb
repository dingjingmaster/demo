{
 "cells": [
  {
   "cell_type": "markdown",
   "metadata": {},
   "source": [
    "# LLM\n",
    "> Large Lanaguage Model (LLM)，即大语言模型。\n",
    "\n",
    "大语言模型 word2vec --> transform --> LLM\n",
    "\n",
    "词向量：将词与数字一一对应，组成向量。编码了词与词之间关系。词向量可以通过上下文来确定每个词的含义。\n",
    "\n",
    "LLM 每个层都是 transform\n",
    "\n",
    "前几层用于理解句子的语法、中间层用于分析高层次的信息\n",
    "\n",
    "神经网络\n",
    "前馈层：训练中学到的信息\n",
    "更后的层：\n",
    "\n",
    "LLM：通过预测下一个词出现啥来实现学习\n",
    "\n"
   ]
  },
  {
   "cell_type": "code",
   "execution_count": null,
   "metadata": {},
   "outputs": [],
   "source": []
  }
 ],
 "metadata": {
  "kernelspec": {
   "display_name": "Python 3",
   "language": "python",
   "name": "python3"
  },
  "language_info": {
   "codemirror_mode": {
    "name": "ipython",
    "version": 3
   },
   "file_extension": ".py",
   "mimetype": "text/x-python",
   "name": "python",
   "nbconvert_exporter": "python",
   "pygments_lexer": "ipython3",
   "version": "3.11.8"
  }
 },
 "nbformat": 4,
 "nbformat_minor": 2
}
